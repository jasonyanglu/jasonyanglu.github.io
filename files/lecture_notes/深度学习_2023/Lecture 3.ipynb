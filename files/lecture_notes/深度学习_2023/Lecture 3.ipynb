{
 "cells": [
  {
   "cell_type": "code",
   "execution_count": null,
   "metadata": {},
   "outputs": [],
   "source": [
    "import torch"
   ]
  },
  {
   "cell_type": "markdown",
   "metadata": {},
   "source": [
    "## Initialization with normal distribution"
   ]
  },
  {
   "cell_type": "code",
   "execution_count": null,
   "metadata": {},
   "outputs": [],
   "source": [
    "a = torch.randn(512,512)\n",
    "\n",
    "for i in range(100):\n",
    "    x = torch.randn(512,512)\n",
    "    a = a @ x\n",
    "    print('%f, %f' % (a.mean(), a.std()))"
   ]
  },
  {
   "cell_type": "code",
   "execution_count": null,
   "metadata": {},
   "outputs": [],
   "source": [
    "a = torch.randn(512,512)\n",
    "\n",
    "for i in range(100):\n",
    "    x = torch.randn(512,512) * 0.01\n",
    "    a = a @ x\n",
    "    print('%f, %f' % (a.mean(), a.std()))"
   ]
  },
  {
   "cell_type": "markdown",
   "metadata": {},
   "source": [
    "## Initialization with uniform distribution"
   ]
  },
  {
   "cell_type": "code",
   "execution_count": null,
   "metadata": {},
   "outputs": [],
   "source": [
    "a = torch.randn(512)\n",
    "\n",
    "for i in range(100):\n",
    "    x = torch.Tensor(512,512).uniform_(-1,1)\n",
    "    a = a @ x\n",
    "    print('%f, %f' % (a.mean(), a.std()))"
   ]
  },
  {
   "cell_type": "markdown",
   "metadata": {},
   "source": [
    "## Xavier initialization"
   ]
  },
  {
   "cell_type": "code",
   "execution_count": null,
   "metadata": {},
   "outputs": [],
   "source": [
    "import math\n",
    "def xavier_normal(m, h):\n",
    "    return torch.randn(m, h) * math.sqrt(2. / (m + h))\n",
    "def xavier_uniform(m, h):\n",
    "    return torch.Tensor(m, h).uniform_(-1, 1) * math.sqrt(6. / (m + h))"
   ]
  },
  {
   "cell_type": "code",
   "execution_count": null,
   "metadata": {},
   "outputs": [],
   "source": [
    "a = torch.randn(512)\n",
    "\n",
    "for i in range(100):\n",
    "    x = xavier_uniform(512, 512)\n",
    "    a = a @ x\n",
    "    print('%f, %f' % (a.mean(), a.std()))"
   ]
  },
  {
   "cell_type": "code",
   "execution_count": null,
   "metadata": {},
   "outputs": [],
   "source": [
    "a = torch.randn(512)\n",
    "\n",
    "for i in range(100):\n",
    "    x = xavier_normal(512, 512)\n",
    "    a = a @ x\n",
    "    print('%f, %f' % (a.mean(), a.std()))"
   ]
  },
  {
   "cell_type": "code",
   "execution_count": null,
   "metadata": {},
   "outputs": [],
   "source": [
    "a = torch.randn(512)\n",
    "\n",
    "for i in range(100):\n",
    "    x = xavier_normal(512, 512)\n",
    "    a = torch.relu(a @ x)\n",
    "    print('%f, %f' % (a.mean(), a.std()))"
   ]
  },
  {
   "cell_type": "markdown",
   "metadata": {},
   "source": [
    "## Kaiming initialization"
   ]
  },
  {
   "cell_type": "code",
   "execution_count": null,
   "metadata": {},
   "outputs": [],
   "source": [
    "def kaiming_normal(m, h):\n",
    "    return torch.randn(m, h) * math.sqrt(2. / m)\n",
    "def kaiming_uniform(m, h):\n",
    "    return torch.Tensor(m, h).uniform_(-1, 1) * math.sqrt(6. / m)"
   ]
  },
  {
   "cell_type": "code",
   "execution_count": null,
   "metadata": {},
   "outputs": [],
   "source": [
    "a = torch.randn(512)\n",
    "\n",
    "for i in range(100):\n",
    "    x = kaiming_uniform(512, 512)\n",
    "    a = torch.relu(a @ x)\n",
    "    print('%f, %f' % (a.mean(), a.std()))"
   ]
  },
  {
   "cell_type": "code",
   "execution_count": null,
   "metadata": {},
   "outputs": [],
   "source": [
    "a = torch.randn(512)\n",
    "\n",
    "for i in range(100):\n",
    "    x = kaiming_normal(512, 512)\n",
    "    a = torch.relu(a @ x)\n",
    "    print('%f, %f' % (a.mean(), a.std()))"
   ]
  }
 ],
 "metadata": {
  "kernelspec": {
   "display_name": "Python 3 (ipykernel)",
   "language": "python",
   "name": "python3"
  },
  "language_info": {
   "codemirror_mode": {
    "name": "ipython",
    "version": 3
   },
   "file_extension": ".py",
   "mimetype": "text/x-python",
   "name": "python",
   "nbconvert_exporter": "python",
   "pygments_lexer": "ipython3",
   "version": "3.7.3"
  }
 },
 "nbformat": 4,
 "nbformat_minor": 2
}
